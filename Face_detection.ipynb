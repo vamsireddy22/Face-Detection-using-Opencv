{
  "nbformat": 4,
  "nbformat_minor": 0,
  "metadata": {
    "colab": {
      "name": "Face_detection.ipynb",
      "provenance": [],
      "collapsed_sections": []
    },
    "kernelspec": {
      "name": "python3",
      "display_name": "Python 3"
    }
  },
  "cells": [
    {
      "cell_type": "code",
      "metadata": {
        "id": "KO7GSiHRXC6_",
        "colab_type": "code",
        "colab": {}
      },
      "source": [
        "import numpy as np\n",
        "import cv2\n",
        "%matplotlib inline\n",
        "import matplotlib.pyplot as plt\n",
        "import time"
      ],
      "execution_count": 0,
      "outputs": []
    },
    {
      "cell_type": "code",
      "metadata": {
        "id": "frsjB31x-PPY",
        "colab_type": "code",
        "colab": {}
      },
      "source": [
        "cascPath=\"/content/haarcascade_frontalface_alt.xml\""
      ],
      "execution_count": 0,
      "outputs": []
    },
    {
      "cell_type": "code",
      "metadata": {
        "id": "tK2eugnb-uDN",
        "colab_type": "code",
        "colab": {}
      },
      "source": [
        "faceCascade = cv2.CascadeClassifier(cascPath)"
      ],
      "execution_count": 0,
      "outputs": []
    },
    {
      "cell_type": "code",
      "metadata": {
        "id": "_v9IfrIZ-yzx",
        "colab_type": "code",
        "colab": {}
      },
      "source": [
        "def detect_faces_show(fpath):\n",
        "    img = cv2.imread(fpath)\n",
        "    gray = cv2.cvtColor(img,cv2.COLOR_BGR2RGB)\n",
        "    faces = faceCascade.detectMultiScale(gray,scaleFactor=1.2,minNeighbors=2,minSize=(30,30),flags=cv2.CASCADE_SCALE_IMAGE)\n",
        "    print(\"Found %d faces !\"%len(faces))\n",
        "    \n",
        "    for(x,y,w,h)in faces:\n",
        "        cv2.rectangle(img,(x,y),(x+w,y+h),(0,255,0),3)\n",
        "        plt.imshow(cv2.cvtColor(img,cv2.COLOR_BGR2RGB))"
      ],
      "execution_count": 0,
      "outputs": []
    },
    {
      "cell_type": "code",
      "metadata": {
        "id": "41MDwJEA-3RH",
        "colab_type": "code",
        "colab": {}
      },
      "source": [
        "detect_faces_show('/content/group_photo_2010.jpg')"
      ],
      "execution_count": 0,
      "outputs": []
    }
  ]
}